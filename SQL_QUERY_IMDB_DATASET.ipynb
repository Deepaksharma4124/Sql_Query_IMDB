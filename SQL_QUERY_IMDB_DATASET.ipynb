{
  "nbformat": 4,
  "nbformat_minor": 0,
  "metadata": {
    "colab": {
      "provenance": [],
      "collapsed_sections": []
    },
    "kernelspec": {
      "name": "python3",
      "display_name": "Python 3"
    },
    "language_info": {
      "name": "python"
    }
  },
  "cells": [
    {
      "cell_type": "code",
      "execution_count": 9,
      "metadata": {
        "id": "yptdkbw_S28h"
      },
      "outputs": [],
      "source": [
        "conn = sqlite3.connect(db)\n",
        "#creating a cursor object\n",
        "cur = conn.cursor()"
      ]
    },
    {
      "cell_type": "code",
      "source": [
        "#numpy ->To perform the mathmatical operations\n",
        "\n",
        "import numpy as np \n",
        "#pandas -> data analysis -> DE, DM ,DC\n",
        "import pandas as pd \n",
        "#matplotlib ->Daat visualisation tool\n",
        "import matplotlib.pyplot as plt \n",
        "#seaborn - Data visulisation tool\n",
        "import seaborn as snsl\n",
        "#regex -> data cleaning \n",
        "import re\n",
        "#sqlite-> server less database\n",
        "import sqlite3"
      ],
      "metadata": {
        "id": "CYcnc-sg0Bs1"
      },
      "execution_count": 3,
      "outputs": []
    },
    {
      "cell_type": "markdown",
      "source": [
        "#planning /approach"
      ],
      "metadata": {
        "id": "QSrDYWjw1yCl"
      }
    },
    {
      "cell_type": "markdown",
      "source": [
        "STEP1: connect database sqlit3.connect(database_name)\n",
        "STEP2: Use the cursor function - Database_variable.cursor"
      ],
      "metadata": {
        "id": "ENNsSDgAfrZo"
      }
    },
    {
      "cell_type": "markdown",
      "source": [
        "workflow"
      ],
      "metadata": {
        "id": "gVaPNysCf74v"
      }
    },
    {
      "cell_type": "markdown",
      "source": [
        "1. I will establish a connection to the SQLITE Database by creating a connection object\n",
        "2. I will create a cursor object using the cursor() method\n",
        "3. I will execute the query cursor_variable.execute('query')\n",
        "4. Fetch the data then use fetchall() method of the cursor variable/object\n",
        "5. I will create a DataFrame w.r.t the SQlite\n",
        "6. Data Analysis - Data Manipulation, Data Exploration, Data Cleaning, Data Visualization\n",
        "7. I will write a conclusion at every step"
      ],
      "metadata": {
        "id": "T_6OlpCDf-GD"
      }
    },
    {
      "cell_type": "code",
      "source": [
        "\n",
        "#storing the path of the database into a vaiable \"db\"\n",
        "db = \"/content/drive/MyDrive/movies.sqlite\"\n",
        "#creating a database connection object \n",
        "conn = sqlite3.connect(db)\n",
        "#creating a cursor object\n",
        "cur = conn.cursor()"
      ],
      "metadata": {
        "id": "LayjQ7Cd3Kpr"
      },
      "execution_count": 7,
      "outputs": []
    },
    {
      "cell_type": "markdown",
      "source": [],
      "metadata": {
        "id": "dSZChUoMfpLo"
      }
    },
    {
      "cell_type": "code",
      "source": [
        "#fetch all the data of the movies from the movies table in the above database \n",
        "cur.execute(\"select * from movies\")\n",
        "#creating a cursor object\n",
        "movies =cur.fetchall()"
      ],
      "metadata": {
        "id": "NmctakMFUA68"
      },
      "execution_count": 11,
      "outputs": []
    },
    {
      "cell_type": "markdown",
      "source": [],
      "metadata": {
        "id": "uGYCFkeV3BFh"
      }
    },
    {
      "cell_type": "code",
      "source": [],
      "metadata": {
        "id": "frEU2qPkUutZ"
      },
      "execution_count": null,
      "outputs": []
    },
    {
      "cell_type": "code",
      "source": [
        "#creating a dataframe \n",
        "columns = [\"id\",\"original_title\",\"budget\",\"popularity\",\"releasedate\",\"revenue\",\"title\",\n",
        "                 \"vote\",\"vote_average\",\"vote_count\",\"overview\",\"uid\",\"director_id\"]\n",
        "movies_df = pd.DataFrame(movies,columns=columns)\n",
        "movies_df "
      ],
      "metadata": {
        "id": "pvX6h0bEU6M0",
        "colab": {
          "base_uri": "https://localhost:8080/",
          "height": 919
        },
        "outputId": "d2150f75-621a-41d8-e8e8-93efc920bd7b"
      },
      "execution_count": 15,
      "outputs": [
        {
          "output_type": "execute_result",
          "data": {
            "text/plain": [
              "         id                            original_title     budget  popularity  \\\n",
              "0     43597                                    Avatar  237000000         150   \n",
              "1     43598  Pirates of the Caribbean: At World's End  300000000         139   \n",
              "2     43599                                   Spectre  245000000         107   \n",
              "3     43600                     The Dark Knight Rises  250000000         112   \n",
              "4     43601                               John Carter  260000000          43   \n",
              "...     ...                                       ...        ...         ...   \n",
              "4768  48395                               El Mariachi     220000          14   \n",
              "4769  48396                                 Newlyweds       9000           0   \n",
              "4770  48397                 Signed, Sealed, Delivered          0           1   \n",
              "4771  48398                          Shanghai Calling          0           0   \n",
              "4772  48399                         My Date with Drew          0           1   \n",
              "\n",
              "     releasedate     revenue                                     title  vote  \\\n",
              "0     2009-12-10  2787965087                                    Avatar   7.2   \n",
              "1     2007-05-19   961000000  Pirates of the Caribbean: At World's End   6.9   \n",
              "2     2015-10-26   880674609                                   Spectre   6.3   \n",
              "3     2012-07-16  1084939099                     The Dark Knight Rises   7.6   \n",
              "4     2012-03-07   284139100                               John Carter   6.1   \n",
              "...          ...         ...                                       ...   ...   \n",
              "4768  1992-09-04     2040920                               El Mariachi   6.6   \n",
              "4769  2011-12-26           0                                 Newlyweds   5.9   \n",
              "4770  2013-10-13           0                 Signed, Sealed, Delivered   7.0   \n",
              "4771  2012-05-03           0                          Shanghai Calling   5.7   \n",
              "4772  2005-08-05           0                         My Date with Drew   6.3   \n",
              "\n",
              "      vote_average                                         vote_count  \\\n",
              "0            11800  In the 22nd century, a paraplegic Marine is di...   \n",
              "1             4500  Captain Barbossa, long believed to be dead, ha...   \n",
              "2             4466  A cryptic message from Bond’s past sends him o...   \n",
              "3             9106  Following the death of District Attorney Harve...   \n",
              "4             2124  John Carter is a war-weary, former military ca...   \n",
              "...            ...                                                ...   \n",
              "4768           238  El Mariachi just wants to play his guitar and ...   \n",
              "4769             5  A newlywed couple's honeymoon is upended by th...   \n",
              "4770             6  \"Signed, Sealed, Delivered\" introduces a dedic...   \n",
              "4771             7  When ambitious New York attorney Sam is sent t...   \n",
              "4772            16  Ever since the second grade when he first saw ...   \n",
              "\n",
              "                                               overview     uid  director_id  \n",
              "0                           Enter the World of Pandora.   19995         4762  \n",
              "1        At the end of the world, the adventure begins.     285         4763  \n",
              "2                                 A Plan No One Escapes  206647         4764  \n",
              "3                                       The Legend Ends   49026         4765  \n",
              "4                  Lost in our world, found in another.   49529         4766  \n",
              "...                                                 ...     ...          ...  \n",
              "4768  He didn't come looking for trouble, but troubl...    9367         5097  \n",
              "4769  A newlywed couple's honeymoon is upended by th...   72766         6485  \n",
              "4770                                               None  231617         7108  \n",
              "4771                           A New Yorker in Shanghai  126186         7109  \n",
              "4772                                               None   25975         7110  \n",
              "\n",
              "[4773 rows x 13 columns]"
            ],
            "text/html": [
              "\n",
              "  <div id=\"df-1e0bf840-c29b-4719-a66d-b465ede44f19\">\n",
              "    <div class=\"colab-df-container\">\n",
              "      <div>\n",
              "<style scoped>\n",
              "    .dataframe tbody tr th:only-of-type {\n",
              "        vertical-align: middle;\n",
              "    }\n",
              "\n",
              "    .dataframe tbody tr th {\n",
              "        vertical-align: top;\n",
              "    }\n",
              "\n",
              "    .dataframe thead th {\n",
              "        text-align: right;\n",
              "    }\n",
              "</style>\n",
              "<table border=\"1\" class=\"dataframe\">\n",
              "  <thead>\n",
              "    <tr style=\"text-align: right;\">\n",
              "      <th></th>\n",
              "      <th>id</th>\n",
              "      <th>original_title</th>\n",
              "      <th>budget</th>\n",
              "      <th>popularity</th>\n",
              "      <th>releasedate</th>\n",
              "      <th>revenue</th>\n",
              "      <th>title</th>\n",
              "      <th>vote</th>\n",
              "      <th>vote_average</th>\n",
              "      <th>vote_count</th>\n",
              "      <th>overview</th>\n",
              "      <th>uid</th>\n",
              "      <th>director_id</th>\n",
              "    </tr>\n",
              "  </thead>\n",
              "  <tbody>\n",
              "    <tr>\n",
              "      <th>0</th>\n",
              "      <td>43597</td>\n",
              "      <td>Avatar</td>\n",
              "      <td>237000000</td>\n",
              "      <td>150</td>\n",
              "      <td>2009-12-10</td>\n",
              "      <td>2787965087</td>\n",
              "      <td>Avatar</td>\n",
              "      <td>7.2</td>\n",
              "      <td>11800</td>\n",
              "      <td>In the 22nd century, a paraplegic Marine is di...</td>\n",
              "      <td>Enter the World of Pandora.</td>\n",
              "      <td>19995</td>\n",
              "      <td>4762</td>\n",
              "    </tr>\n",
              "    <tr>\n",
              "      <th>1</th>\n",
              "      <td>43598</td>\n",
              "      <td>Pirates of the Caribbean: At World's End</td>\n",
              "      <td>300000000</td>\n",
              "      <td>139</td>\n",
              "      <td>2007-05-19</td>\n",
              "      <td>961000000</td>\n",
              "      <td>Pirates of the Caribbean: At World's End</td>\n",
              "      <td>6.9</td>\n",
              "      <td>4500</td>\n",
              "      <td>Captain Barbossa, long believed to be dead, ha...</td>\n",
              "      <td>At the end of the world, the adventure begins.</td>\n",
              "      <td>285</td>\n",
              "      <td>4763</td>\n",
              "    </tr>\n",
              "    <tr>\n",
              "      <th>2</th>\n",
              "      <td>43599</td>\n",
              "      <td>Spectre</td>\n",
              "      <td>245000000</td>\n",
              "      <td>107</td>\n",
              "      <td>2015-10-26</td>\n",
              "      <td>880674609</td>\n",
              "      <td>Spectre</td>\n",
              "      <td>6.3</td>\n",
              "      <td>4466</td>\n",
              "      <td>A cryptic message from Bond’s past sends him o...</td>\n",
              "      <td>A Plan No One Escapes</td>\n",
              "      <td>206647</td>\n",
              "      <td>4764</td>\n",
              "    </tr>\n",
              "    <tr>\n",
              "      <th>3</th>\n",
              "      <td>43600</td>\n",
              "      <td>The Dark Knight Rises</td>\n",
              "      <td>250000000</td>\n",
              "      <td>112</td>\n",
              "      <td>2012-07-16</td>\n",
              "      <td>1084939099</td>\n",
              "      <td>The Dark Knight Rises</td>\n",
              "      <td>7.6</td>\n",
              "      <td>9106</td>\n",
              "      <td>Following the death of District Attorney Harve...</td>\n",
              "      <td>The Legend Ends</td>\n",
              "      <td>49026</td>\n",
              "      <td>4765</td>\n",
              "    </tr>\n",
              "    <tr>\n",
              "      <th>4</th>\n",
              "      <td>43601</td>\n",
              "      <td>John Carter</td>\n",
              "      <td>260000000</td>\n",
              "      <td>43</td>\n",
              "      <td>2012-03-07</td>\n",
              "      <td>284139100</td>\n",
              "      <td>John Carter</td>\n",
              "      <td>6.1</td>\n",
              "      <td>2124</td>\n",
              "      <td>John Carter is a war-weary, former military ca...</td>\n",
              "      <td>Lost in our world, found in another.</td>\n",
              "      <td>49529</td>\n",
              "      <td>4766</td>\n",
              "    </tr>\n",
              "    <tr>\n",
              "      <th>...</th>\n",
              "      <td>...</td>\n",
              "      <td>...</td>\n",
              "      <td>...</td>\n",
              "      <td>...</td>\n",
              "      <td>...</td>\n",
              "      <td>...</td>\n",
              "      <td>...</td>\n",
              "      <td>...</td>\n",
              "      <td>...</td>\n",
              "      <td>...</td>\n",
              "      <td>...</td>\n",
              "      <td>...</td>\n",
              "      <td>...</td>\n",
              "    </tr>\n",
              "    <tr>\n",
              "      <th>4768</th>\n",
              "      <td>48395</td>\n",
              "      <td>El Mariachi</td>\n",
              "      <td>220000</td>\n",
              "      <td>14</td>\n",
              "      <td>1992-09-04</td>\n",
              "      <td>2040920</td>\n",
              "      <td>El Mariachi</td>\n",
              "      <td>6.6</td>\n",
              "      <td>238</td>\n",
              "      <td>El Mariachi just wants to play his guitar and ...</td>\n",
              "      <td>He didn't come looking for trouble, but troubl...</td>\n",
              "      <td>9367</td>\n",
              "      <td>5097</td>\n",
              "    </tr>\n",
              "    <tr>\n",
              "      <th>4769</th>\n",
              "      <td>48396</td>\n",
              "      <td>Newlyweds</td>\n",
              "      <td>9000</td>\n",
              "      <td>0</td>\n",
              "      <td>2011-12-26</td>\n",
              "      <td>0</td>\n",
              "      <td>Newlyweds</td>\n",
              "      <td>5.9</td>\n",
              "      <td>5</td>\n",
              "      <td>A newlywed couple's honeymoon is upended by th...</td>\n",
              "      <td>A newlywed couple's honeymoon is upended by th...</td>\n",
              "      <td>72766</td>\n",
              "      <td>6485</td>\n",
              "    </tr>\n",
              "    <tr>\n",
              "      <th>4770</th>\n",
              "      <td>48397</td>\n",
              "      <td>Signed, Sealed, Delivered</td>\n",
              "      <td>0</td>\n",
              "      <td>1</td>\n",
              "      <td>2013-10-13</td>\n",
              "      <td>0</td>\n",
              "      <td>Signed, Sealed, Delivered</td>\n",
              "      <td>7.0</td>\n",
              "      <td>6</td>\n",
              "      <td>\"Signed, Sealed, Delivered\" introduces a dedic...</td>\n",
              "      <td>None</td>\n",
              "      <td>231617</td>\n",
              "      <td>7108</td>\n",
              "    </tr>\n",
              "    <tr>\n",
              "      <th>4771</th>\n",
              "      <td>48398</td>\n",
              "      <td>Shanghai Calling</td>\n",
              "      <td>0</td>\n",
              "      <td>0</td>\n",
              "      <td>2012-05-03</td>\n",
              "      <td>0</td>\n",
              "      <td>Shanghai Calling</td>\n",
              "      <td>5.7</td>\n",
              "      <td>7</td>\n",
              "      <td>When ambitious New York attorney Sam is sent t...</td>\n",
              "      <td>A New Yorker in Shanghai</td>\n",
              "      <td>126186</td>\n",
              "      <td>7109</td>\n",
              "    </tr>\n",
              "    <tr>\n",
              "      <th>4772</th>\n",
              "      <td>48399</td>\n",
              "      <td>My Date with Drew</td>\n",
              "      <td>0</td>\n",
              "      <td>1</td>\n",
              "      <td>2005-08-05</td>\n",
              "      <td>0</td>\n",
              "      <td>My Date with Drew</td>\n",
              "      <td>6.3</td>\n",
              "      <td>16</td>\n",
              "      <td>Ever since the second grade when he first saw ...</td>\n",
              "      <td>None</td>\n",
              "      <td>25975</td>\n",
              "      <td>7110</td>\n",
              "    </tr>\n",
              "  </tbody>\n",
              "</table>\n",
              "<p>4773 rows × 13 columns</p>\n",
              "</div>\n",
              "      <button class=\"colab-df-convert\" onclick=\"convertToInteractive('df-1e0bf840-c29b-4719-a66d-b465ede44f19')\"\n",
              "              title=\"Convert this dataframe to an interactive table.\"\n",
              "              style=\"display:none;\">\n",
              "        \n",
              "  <svg xmlns=\"http://www.w3.org/2000/svg\" height=\"24px\"viewBox=\"0 0 24 24\"\n",
              "       width=\"24px\">\n",
              "    <path d=\"M0 0h24v24H0V0z\" fill=\"none\"/>\n",
              "    <path d=\"M18.56 5.44l.94 2.06.94-2.06 2.06-.94-2.06-.94-.94-2.06-.94 2.06-2.06.94zm-11 1L8.5 8.5l.94-2.06 2.06-.94-2.06-.94L8.5 2.5l-.94 2.06-2.06.94zm10 10l.94 2.06.94-2.06 2.06-.94-2.06-.94-.94-2.06-.94 2.06-2.06.94z\"/><path d=\"M17.41 7.96l-1.37-1.37c-.4-.4-.92-.59-1.43-.59-.52 0-1.04.2-1.43.59L10.3 9.45l-7.72 7.72c-.78.78-.78 2.05 0 2.83L4 21.41c.39.39.9.59 1.41.59.51 0 1.02-.2 1.41-.59l7.78-7.78 2.81-2.81c.8-.78.8-2.07 0-2.86zM5.41 20L4 18.59l7.72-7.72 1.47 1.35L5.41 20z\"/>\n",
              "  </svg>\n",
              "      </button>\n",
              "      \n",
              "  <style>\n",
              "    .colab-df-container {\n",
              "      display:flex;\n",
              "      flex-wrap:wrap;\n",
              "      gap: 12px;\n",
              "    }\n",
              "\n",
              "    .colab-df-convert {\n",
              "      background-color: #E8F0FE;\n",
              "      border: none;\n",
              "      border-radius: 50%;\n",
              "      cursor: pointer;\n",
              "      display: none;\n",
              "      fill: #1967D2;\n",
              "      height: 32px;\n",
              "      padding: 0 0 0 0;\n",
              "      width: 32px;\n",
              "    }\n",
              "\n",
              "    .colab-df-convert:hover {\n",
              "      background-color: #E2EBFA;\n",
              "      box-shadow: 0px 1px 2px rgba(60, 64, 67, 0.3), 0px 1px 3px 1px rgba(60, 64, 67, 0.15);\n",
              "      fill: #174EA6;\n",
              "    }\n",
              "\n",
              "    [theme=dark] .colab-df-convert {\n",
              "      background-color: #3B4455;\n",
              "      fill: #D2E3FC;\n",
              "    }\n",
              "\n",
              "    [theme=dark] .colab-df-convert:hover {\n",
              "      background-color: #434B5C;\n",
              "      box-shadow: 0px 1px 3px 1px rgba(0, 0, 0, 0.15);\n",
              "      filter: drop-shadow(0px 1px 2px rgba(0, 0, 0, 0.3));\n",
              "      fill: #FFFFFF;\n",
              "    }\n",
              "  </style>\n",
              "\n",
              "      <script>\n",
              "        const buttonEl =\n",
              "          document.querySelector('#df-1e0bf840-c29b-4719-a66d-b465ede44f19 button.colab-df-convert');\n",
              "        buttonEl.style.display =\n",
              "          google.colab.kernel.accessAllowed ? 'block' : 'none';\n",
              "\n",
              "        async function convertToInteractive(key) {\n",
              "          const element = document.querySelector('#df-1e0bf840-c29b-4719-a66d-b465ede44f19');\n",
              "          const dataTable =\n",
              "            await google.colab.kernel.invokeFunction('convertToInteractive',\n",
              "                                                     [key], {});\n",
              "          if (!dataTable) return;\n",
              "\n",
              "          const docLinkHtml = 'Like what you see? Visit the ' +\n",
              "            '<a target=\"_blank\" href=https://colab.research.google.com/notebooks/data_table.ipynb>data table notebook</a>'\n",
              "            + ' to learn more about interactive tables.';\n",
              "          element.innerHTML = '';\n",
              "          dataTable['output_type'] = 'display_data';\n",
              "          await google.colab.output.renderOutput(dataTable, element);\n",
              "          const docLink = document.createElement('div');\n",
              "          docLink.innerHTML = docLinkHtml;\n",
              "          element.appendChild(docLink);\n",
              "        }\n",
              "      </script>\n",
              "    </div>\n",
              "  </div>\n",
              "  "
            ]
          },
          "metadata": {},
          "execution_count": 15
        }
      ]
    },
    {
      "cell_type": "code",
      "source": [
        "#display all the DataFrame\n",
        "movies_df"
      ],
      "metadata": {
        "id": "Hkce4deK5ig4",
        "colab": {
          "base_uri": "https://localhost:8080/",
          "height": 919
        },
        "outputId": "1fd3d5b9-cdfc-4570-be19-c029b793fb28"
      },
      "execution_count": 16,
      "outputs": [
        {
          "output_type": "execute_result",
          "data": {
            "text/plain": [
              "         id                            original_title     budget  popularity  \\\n",
              "0     43597                                    Avatar  237000000         150   \n",
              "1     43598  Pirates of the Caribbean: At World's End  300000000         139   \n",
              "2     43599                                   Spectre  245000000         107   \n",
              "3     43600                     The Dark Knight Rises  250000000         112   \n",
              "4     43601                               John Carter  260000000          43   \n",
              "...     ...                                       ...        ...         ...   \n",
              "4768  48395                               El Mariachi     220000          14   \n",
              "4769  48396                                 Newlyweds       9000           0   \n",
              "4770  48397                 Signed, Sealed, Delivered          0           1   \n",
              "4771  48398                          Shanghai Calling          0           0   \n",
              "4772  48399                         My Date with Drew          0           1   \n",
              "\n",
              "     releasedate     revenue                                     title  vote  \\\n",
              "0     2009-12-10  2787965087                                    Avatar   7.2   \n",
              "1     2007-05-19   961000000  Pirates of the Caribbean: At World's End   6.9   \n",
              "2     2015-10-26   880674609                                   Spectre   6.3   \n",
              "3     2012-07-16  1084939099                     The Dark Knight Rises   7.6   \n",
              "4     2012-03-07   284139100                               John Carter   6.1   \n",
              "...          ...         ...                                       ...   ...   \n",
              "4768  1992-09-04     2040920                               El Mariachi   6.6   \n",
              "4769  2011-12-26           0                                 Newlyweds   5.9   \n",
              "4770  2013-10-13           0                 Signed, Sealed, Delivered   7.0   \n",
              "4771  2012-05-03           0                          Shanghai Calling   5.7   \n",
              "4772  2005-08-05           0                         My Date with Drew   6.3   \n",
              "\n",
              "      vote_average                                         vote_count  \\\n",
              "0            11800  In the 22nd century, a paraplegic Marine is di...   \n",
              "1             4500  Captain Barbossa, long believed to be dead, ha...   \n",
              "2             4466  A cryptic message from Bond’s past sends him o...   \n",
              "3             9106  Following the death of District Attorney Harve...   \n",
              "4             2124  John Carter is a war-weary, former military ca...   \n",
              "...            ...                                                ...   \n",
              "4768           238  El Mariachi just wants to play his guitar and ...   \n",
              "4769             5  A newlywed couple's honeymoon is upended by th...   \n",
              "4770             6  \"Signed, Sealed, Delivered\" introduces a dedic...   \n",
              "4771             7  When ambitious New York attorney Sam is sent t...   \n",
              "4772            16  Ever since the second grade when he first saw ...   \n",
              "\n",
              "                                               overview     uid  director_id  \n",
              "0                           Enter the World of Pandora.   19995         4762  \n",
              "1        At the end of the world, the adventure begins.     285         4763  \n",
              "2                                 A Plan No One Escapes  206647         4764  \n",
              "3                                       The Legend Ends   49026         4765  \n",
              "4                  Lost in our world, found in another.   49529         4766  \n",
              "...                                                 ...     ...          ...  \n",
              "4768  He didn't come looking for trouble, but troubl...    9367         5097  \n",
              "4769  A newlywed couple's honeymoon is upended by th...   72766         6485  \n",
              "4770                                               None  231617         7108  \n",
              "4771                           A New Yorker in Shanghai  126186         7109  \n",
              "4772                                               None   25975         7110  \n",
              "\n",
              "[4773 rows x 13 columns]"
            ],
            "text/html": [
              "\n",
              "  <div id=\"df-3c866203-c7f0-46fc-b6b8-077deb50afd0\">\n",
              "    <div class=\"colab-df-container\">\n",
              "      <div>\n",
              "<style scoped>\n",
              "    .dataframe tbody tr th:only-of-type {\n",
              "        vertical-align: middle;\n",
              "    }\n",
              "\n",
              "    .dataframe tbody tr th {\n",
              "        vertical-align: top;\n",
              "    }\n",
              "\n",
              "    .dataframe thead th {\n",
              "        text-align: right;\n",
              "    }\n",
              "</style>\n",
              "<table border=\"1\" class=\"dataframe\">\n",
              "  <thead>\n",
              "    <tr style=\"text-align: right;\">\n",
              "      <th></th>\n",
              "      <th>id</th>\n",
              "      <th>original_title</th>\n",
              "      <th>budget</th>\n",
              "      <th>popularity</th>\n",
              "      <th>releasedate</th>\n",
              "      <th>revenue</th>\n",
              "      <th>title</th>\n",
              "      <th>vote</th>\n",
              "      <th>vote_average</th>\n",
              "      <th>vote_count</th>\n",
              "      <th>overview</th>\n",
              "      <th>uid</th>\n",
              "      <th>director_id</th>\n",
              "    </tr>\n",
              "  </thead>\n",
              "  <tbody>\n",
              "    <tr>\n",
              "      <th>0</th>\n",
              "      <td>43597</td>\n",
              "      <td>Avatar</td>\n",
              "      <td>237000000</td>\n",
              "      <td>150</td>\n",
              "      <td>2009-12-10</td>\n",
              "      <td>2787965087</td>\n",
              "      <td>Avatar</td>\n",
              "      <td>7.2</td>\n",
              "      <td>11800</td>\n",
              "      <td>In the 22nd century, a paraplegic Marine is di...</td>\n",
              "      <td>Enter the World of Pandora.</td>\n",
              "      <td>19995</td>\n",
              "      <td>4762</td>\n",
              "    </tr>\n",
              "    <tr>\n",
              "      <th>1</th>\n",
              "      <td>43598</td>\n",
              "      <td>Pirates of the Caribbean: At World's End</td>\n",
              "      <td>300000000</td>\n",
              "      <td>139</td>\n",
              "      <td>2007-05-19</td>\n",
              "      <td>961000000</td>\n",
              "      <td>Pirates of the Caribbean: At World's End</td>\n",
              "      <td>6.9</td>\n",
              "      <td>4500</td>\n",
              "      <td>Captain Barbossa, long believed to be dead, ha...</td>\n",
              "      <td>At the end of the world, the adventure begins.</td>\n",
              "      <td>285</td>\n",
              "      <td>4763</td>\n",
              "    </tr>\n",
              "    <tr>\n",
              "      <th>2</th>\n",
              "      <td>43599</td>\n",
              "      <td>Spectre</td>\n",
              "      <td>245000000</td>\n",
              "      <td>107</td>\n",
              "      <td>2015-10-26</td>\n",
              "      <td>880674609</td>\n",
              "      <td>Spectre</td>\n",
              "      <td>6.3</td>\n",
              "      <td>4466</td>\n",
              "      <td>A cryptic message from Bond’s past sends him o...</td>\n",
              "      <td>A Plan No One Escapes</td>\n",
              "      <td>206647</td>\n",
              "      <td>4764</td>\n",
              "    </tr>\n",
              "    <tr>\n",
              "      <th>3</th>\n",
              "      <td>43600</td>\n",
              "      <td>The Dark Knight Rises</td>\n",
              "      <td>250000000</td>\n",
              "      <td>112</td>\n",
              "      <td>2012-07-16</td>\n",
              "      <td>1084939099</td>\n",
              "      <td>The Dark Knight Rises</td>\n",
              "      <td>7.6</td>\n",
              "      <td>9106</td>\n",
              "      <td>Following the death of District Attorney Harve...</td>\n",
              "      <td>The Legend Ends</td>\n",
              "      <td>49026</td>\n",
              "      <td>4765</td>\n",
              "    </tr>\n",
              "    <tr>\n",
              "      <th>4</th>\n",
              "      <td>43601</td>\n",
              "      <td>John Carter</td>\n",
              "      <td>260000000</td>\n",
              "      <td>43</td>\n",
              "      <td>2012-03-07</td>\n",
              "      <td>284139100</td>\n",
              "      <td>John Carter</td>\n",
              "      <td>6.1</td>\n",
              "      <td>2124</td>\n",
              "      <td>John Carter is a war-weary, former military ca...</td>\n",
              "      <td>Lost in our world, found in another.</td>\n",
              "      <td>49529</td>\n",
              "      <td>4766</td>\n",
              "    </tr>\n",
              "    <tr>\n",
              "      <th>...</th>\n",
              "      <td>...</td>\n",
              "      <td>...</td>\n",
              "      <td>...</td>\n",
              "      <td>...</td>\n",
              "      <td>...</td>\n",
              "      <td>...</td>\n",
              "      <td>...</td>\n",
              "      <td>...</td>\n",
              "      <td>...</td>\n",
              "      <td>...</td>\n",
              "      <td>...</td>\n",
              "      <td>...</td>\n",
              "      <td>...</td>\n",
              "    </tr>\n",
              "    <tr>\n",
              "      <th>4768</th>\n",
              "      <td>48395</td>\n",
              "      <td>El Mariachi</td>\n",
              "      <td>220000</td>\n",
              "      <td>14</td>\n",
              "      <td>1992-09-04</td>\n",
              "      <td>2040920</td>\n",
              "      <td>El Mariachi</td>\n",
              "      <td>6.6</td>\n",
              "      <td>238</td>\n",
              "      <td>El Mariachi just wants to play his guitar and ...</td>\n",
              "      <td>He didn't come looking for trouble, but troubl...</td>\n",
              "      <td>9367</td>\n",
              "      <td>5097</td>\n",
              "    </tr>\n",
              "    <tr>\n",
              "      <th>4769</th>\n",
              "      <td>48396</td>\n",
              "      <td>Newlyweds</td>\n",
              "      <td>9000</td>\n",
              "      <td>0</td>\n",
              "      <td>2011-12-26</td>\n",
              "      <td>0</td>\n",
              "      <td>Newlyweds</td>\n",
              "      <td>5.9</td>\n",
              "      <td>5</td>\n",
              "      <td>A newlywed couple's honeymoon is upended by th...</td>\n",
              "      <td>A newlywed couple's honeymoon is upended by th...</td>\n",
              "      <td>72766</td>\n",
              "      <td>6485</td>\n",
              "    </tr>\n",
              "    <tr>\n",
              "      <th>4770</th>\n",
              "      <td>48397</td>\n",
              "      <td>Signed, Sealed, Delivered</td>\n",
              "      <td>0</td>\n",
              "      <td>1</td>\n",
              "      <td>2013-10-13</td>\n",
              "      <td>0</td>\n",
              "      <td>Signed, Sealed, Delivered</td>\n",
              "      <td>7.0</td>\n",
              "      <td>6</td>\n",
              "      <td>\"Signed, Sealed, Delivered\" introduces a dedic...</td>\n",
              "      <td>None</td>\n",
              "      <td>231617</td>\n",
              "      <td>7108</td>\n",
              "    </tr>\n",
              "    <tr>\n",
              "      <th>4771</th>\n",
              "      <td>48398</td>\n",
              "      <td>Shanghai Calling</td>\n",
              "      <td>0</td>\n",
              "      <td>0</td>\n",
              "      <td>2012-05-03</td>\n",
              "      <td>0</td>\n",
              "      <td>Shanghai Calling</td>\n",
              "      <td>5.7</td>\n",
              "      <td>7</td>\n",
              "      <td>When ambitious New York attorney Sam is sent t...</td>\n",
              "      <td>A New Yorker in Shanghai</td>\n",
              "      <td>126186</td>\n",
              "      <td>7109</td>\n",
              "    </tr>\n",
              "    <tr>\n",
              "      <th>4772</th>\n",
              "      <td>48399</td>\n",
              "      <td>My Date with Drew</td>\n",
              "      <td>0</td>\n",
              "      <td>1</td>\n",
              "      <td>2005-08-05</td>\n",
              "      <td>0</td>\n",
              "      <td>My Date with Drew</td>\n",
              "      <td>6.3</td>\n",
              "      <td>16</td>\n",
              "      <td>Ever since the second grade when he first saw ...</td>\n",
              "      <td>None</td>\n",
              "      <td>25975</td>\n",
              "      <td>7110</td>\n",
              "    </tr>\n",
              "  </tbody>\n",
              "</table>\n",
              "<p>4773 rows × 13 columns</p>\n",
              "</div>\n",
              "      <button class=\"colab-df-convert\" onclick=\"convertToInteractive('df-3c866203-c7f0-46fc-b6b8-077deb50afd0')\"\n",
              "              title=\"Convert this dataframe to an interactive table.\"\n",
              "              style=\"display:none;\">\n",
              "        \n",
              "  <svg xmlns=\"http://www.w3.org/2000/svg\" height=\"24px\"viewBox=\"0 0 24 24\"\n",
              "       width=\"24px\">\n",
              "    <path d=\"M0 0h24v24H0V0z\" fill=\"none\"/>\n",
              "    <path d=\"M18.56 5.44l.94 2.06.94-2.06 2.06-.94-2.06-.94-.94-2.06-.94 2.06-2.06.94zm-11 1L8.5 8.5l.94-2.06 2.06-.94-2.06-.94L8.5 2.5l-.94 2.06-2.06.94zm10 10l.94 2.06.94-2.06 2.06-.94-2.06-.94-.94-2.06-.94 2.06-2.06.94z\"/><path d=\"M17.41 7.96l-1.37-1.37c-.4-.4-.92-.59-1.43-.59-.52 0-1.04.2-1.43.59L10.3 9.45l-7.72 7.72c-.78.78-.78 2.05 0 2.83L4 21.41c.39.39.9.59 1.41.59.51 0 1.02-.2 1.41-.59l7.78-7.78 2.81-2.81c.8-.78.8-2.07 0-2.86zM5.41 20L4 18.59l7.72-7.72 1.47 1.35L5.41 20z\"/>\n",
              "  </svg>\n",
              "      </button>\n",
              "      \n",
              "  <style>\n",
              "    .colab-df-container {\n",
              "      display:flex;\n",
              "      flex-wrap:wrap;\n",
              "      gap: 12px;\n",
              "    }\n",
              "\n",
              "    .colab-df-convert {\n",
              "      background-color: #E8F0FE;\n",
              "      border: none;\n",
              "      border-radius: 50%;\n",
              "      cursor: pointer;\n",
              "      display: none;\n",
              "      fill: #1967D2;\n",
              "      height: 32px;\n",
              "      padding: 0 0 0 0;\n",
              "      width: 32px;\n",
              "    }\n",
              "\n",
              "    .colab-df-convert:hover {\n",
              "      background-color: #E2EBFA;\n",
              "      box-shadow: 0px 1px 2px rgba(60, 64, 67, 0.3), 0px 1px 3px 1px rgba(60, 64, 67, 0.15);\n",
              "      fill: #174EA6;\n",
              "    }\n",
              "\n",
              "    [theme=dark] .colab-df-convert {\n",
              "      background-color: #3B4455;\n",
              "      fill: #D2E3FC;\n",
              "    }\n",
              "\n",
              "    [theme=dark] .colab-df-convert:hover {\n",
              "      background-color: #434B5C;\n",
              "      box-shadow: 0px 1px 3px 1px rgba(0, 0, 0, 0.15);\n",
              "      filter: drop-shadow(0px 1px 2px rgba(0, 0, 0, 0.3));\n",
              "      fill: #FFFFFF;\n",
              "    }\n",
              "  </style>\n",
              "\n",
              "      <script>\n",
              "        const buttonEl =\n",
              "          document.querySelector('#df-3c866203-c7f0-46fc-b6b8-077deb50afd0 button.colab-df-convert');\n",
              "        buttonEl.style.display =\n",
              "          google.colab.kernel.accessAllowed ? 'block' : 'none';\n",
              "\n",
              "        async function convertToInteractive(key) {\n",
              "          const element = document.querySelector('#df-3c866203-c7f0-46fc-b6b8-077deb50afd0');\n",
              "          const dataTable =\n",
              "            await google.colab.kernel.invokeFunction('convertToInteractive',\n",
              "                                                     [key], {});\n",
              "          if (!dataTable) return;\n",
              "\n",
              "          const docLinkHtml = 'Like what you see? Visit the ' +\n",
              "            '<a target=\"_blank\" href=https://colab.research.google.com/notebooks/data_table.ipynb>data table notebook</a>'\n",
              "            + ' to learn more about interactive tables.';\n",
              "          element.innerHTML = '';\n",
              "          dataTable['output_type'] = 'display_data';\n",
              "          await google.colab.output.renderOutput(dataTable, element);\n",
              "          const docLink = document.createElement('div');\n",
              "          docLink.innerHTML = docLinkHtml;\n",
              "          element.appendChild(docLink);\n",
              "        }\n",
              "      </script>\n",
              "    </div>\n",
              "  </div>\n",
              "  "
            ]
          },
          "metadata": {},
          "execution_count": 16
        }
      ]
    },
    {
      "cell_type": "code",
      "source": [
        "\n",
        "movies_df.info()"
      ],
      "metadata": {
        "id": "8e0c4LFkVH8p",
        "colab": {
          "base_uri": "https://localhost:8080/"
        },
        "outputId": "ba62d00a-498e-4e14-d6b1-b9d714341e4e"
      },
      "execution_count": 17,
      "outputs": [
        {
          "output_type": "stream",
          "name": "stdout",
          "text": [
            "<class 'pandas.core.frame.DataFrame'>\n",
            "RangeIndex: 4773 entries, 0 to 4772\n",
            "Data columns (total 13 columns):\n",
            " #   Column          Non-Null Count  Dtype  \n",
            "---  ------          --------------  -----  \n",
            " 0   id              4773 non-null   int64  \n",
            " 1   original_title  4773 non-null   object \n",
            " 2   budget          4773 non-null   int64  \n",
            " 3   popularity      4773 non-null   int64  \n",
            " 4   releasedate     4773 non-null   object \n",
            " 5   revenue         4773 non-null   int64  \n",
            " 6   title           4773 non-null   object \n",
            " 7   vote            4773 non-null   float64\n",
            " 8   vote_average    4773 non-null   int64  \n",
            " 9   vote_count      4770 non-null   object \n",
            " 10  overview        3951 non-null   object \n",
            " 11  uid             4773 non-null   int64  \n",
            " 12  director_id     4773 non-null   int64  \n",
            "dtypes: float64(1), int64(7), object(5)\n",
            "memory usage: 484.9+ KB\n"
          ]
        }
      ]
    },
    {
      "cell_type": "code",
      "source": [
        "#fetch all the data of the director from the director table in the above database \n",
        "cur.execute(\"select * from directors\")\n",
        "#creating a cursor object\n",
        "directors=cur.fetchall()"
      ],
      "metadata": {
        "id": "pcXPeymg6c5d"
      },
      "execution_count": 23,
      "outputs": []
    },
    {
      "cell_type": "code",
      "source": [
        "directors_df"
      ],
      "metadata": {
        "id": "HagJe3tt6osx",
        "colab": {
          "base_uri": "https://localhost:8080/",
          "height": 424
        },
        "outputId": "36968f37-b35d-4dc4-fc56-aadbefb14604"
      },
      "execution_count": 30,
      "outputs": [
        {
          "output_type": "execute_result",
          "data": {
            "text/plain": [
              "                   name  director_id  gender      uid department\n",
              "0         James Cameron         4762       2     2710  Directing\n",
              "1        Gore Verbinski         4763       2     1704  Directing\n",
              "2            Sam Mendes         4764       2       39  Directing\n",
              "3     Christopher Nolan         4765       2      525  Directing\n",
              "4        Andrew Stanton         4766       2        7  Directing\n",
              "...                 ...          ...     ...      ...        ...\n",
              "2344      Shane Carruth         7106       2    76624  Directing\n",
              "2345   Neill Dela Llana         7107       0  1174437  Directing\n",
              "2346        Scott Smith         7108       0  1219158  Directing\n",
              "2347        Daniel Hsia         7109       2   208138  Directing\n",
              "2348   Brian Herzlinger         7110       2    85563  Directing\n",
              "\n",
              "[2349 rows x 5 columns]"
            ],
            "text/html": [
              "\n",
              "  <div id=\"df-8de4af6e-69a5-4753-9f73-0bc96927f22d\">\n",
              "    <div class=\"colab-df-container\">\n",
              "      <div>\n",
              "<style scoped>\n",
              "    .dataframe tbody tr th:only-of-type {\n",
              "        vertical-align: middle;\n",
              "    }\n",
              "\n",
              "    .dataframe tbody tr th {\n",
              "        vertical-align: top;\n",
              "    }\n",
              "\n",
              "    .dataframe thead th {\n",
              "        text-align: right;\n",
              "    }\n",
              "</style>\n",
              "<table border=\"1\" class=\"dataframe\">\n",
              "  <thead>\n",
              "    <tr style=\"text-align: right;\">\n",
              "      <th></th>\n",
              "      <th>name</th>\n",
              "      <th>director_id</th>\n",
              "      <th>gender</th>\n",
              "      <th>uid</th>\n",
              "      <th>department</th>\n",
              "    </tr>\n",
              "  </thead>\n",
              "  <tbody>\n",
              "    <tr>\n",
              "      <th>0</th>\n",
              "      <td>James Cameron</td>\n",
              "      <td>4762</td>\n",
              "      <td>2</td>\n",
              "      <td>2710</td>\n",
              "      <td>Directing</td>\n",
              "    </tr>\n",
              "    <tr>\n",
              "      <th>1</th>\n",
              "      <td>Gore Verbinski</td>\n",
              "      <td>4763</td>\n",
              "      <td>2</td>\n",
              "      <td>1704</td>\n",
              "      <td>Directing</td>\n",
              "    </tr>\n",
              "    <tr>\n",
              "      <th>2</th>\n",
              "      <td>Sam Mendes</td>\n",
              "      <td>4764</td>\n",
              "      <td>2</td>\n",
              "      <td>39</td>\n",
              "      <td>Directing</td>\n",
              "    </tr>\n",
              "    <tr>\n",
              "      <th>3</th>\n",
              "      <td>Christopher Nolan</td>\n",
              "      <td>4765</td>\n",
              "      <td>2</td>\n",
              "      <td>525</td>\n",
              "      <td>Directing</td>\n",
              "    </tr>\n",
              "    <tr>\n",
              "      <th>4</th>\n",
              "      <td>Andrew Stanton</td>\n",
              "      <td>4766</td>\n",
              "      <td>2</td>\n",
              "      <td>7</td>\n",
              "      <td>Directing</td>\n",
              "    </tr>\n",
              "    <tr>\n",
              "      <th>...</th>\n",
              "      <td>...</td>\n",
              "      <td>...</td>\n",
              "      <td>...</td>\n",
              "      <td>...</td>\n",
              "      <td>...</td>\n",
              "    </tr>\n",
              "    <tr>\n",
              "      <th>2344</th>\n",
              "      <td>Shane Carruth</td>\n",
              "      <td>7106</td>\n",
              "      <td>2</td>\n",
              "      <td>76624</td>\n",
              "      <td>Directing</td>\n",
              "    </tr>\n",
              "    <tr>\n",
              "      <th>2345</th>\n",
              "      <td>Neill Dela Llana</td>\n",
              "      <td>7107</td>\n",
              "      <td>0</td>\n",
              "      <td>1174437</td>\n",
              "      <td>Directing</td>\n",
              "    </tr>\n",
              "    <tr>\n",
              "      <th>2346</th>\n",
              "      <td>Scott Smith</td>\n",
              "      <td>7108</td>\n",
              "      <td>0</td>\n",
              "      <td>1219158</td>\n",
              "      <td>Directing</td>\n",
              "    </tr>\n",
              "    <tr>\n",
              "      <th>2347</th>\n",
              "      <td>Daniel Hsia</td>\n",
              "      <td>7109</td>\n",
              "      <td>2</td>\n",
              "      <td>208138</td>\n",
              "      <td>Directing</td>\n",
              "    </tr>\n",
              "    <tr>\n",
              "      <th>2348</th>\n",
              "      <td>Brian Herzlinger</td>\n",
              "      <td>7110</td>\n",
              "      <td>2</td>\n",
              "      <td>85563</td>\n",
              "      <td>Directing</td>\n",
              "    </tr>\n",
              "  </tbody>\n",
              "</table>\n",
              "<p>2349 rows × 5 columns</p>\n",
              "</div>\n",
              "      <button class=\"colab-df-convert\" onclick=\"convertToInteractive('df-8de4af6e-69a5-4753-9f73-0bc96927f22d')\"\n",
              "              title=\"Convert this dataframe to an interactive table.\"\n",
              "              style=\"display:none;\">\n",
              "        \n",
              "  <svg xmlns=\"http://www.w3.org/2000/svg\" height=\"24px\"viewBox=\"0 0 24 24\"\n",
              "       width=\"24px\">\n",
              "    <path d=\"M0 0h24v24H0V0z\" fill=\"none\"/>\n",
              "    <path d=\"M18.56 5.44l.94 2.06.94-2.06 2.06-.94-2.06-.94-.94-2.06-.94 2.06-2.06.94zm-11 1L8.5 8.5l.94-2.06 2.06-.94-2.06-.94L8.5 2.5l-.94 2.06-2.06.94zm10 10l.94 2.06.94-2.06 2.06-.94-2.06-.94-.94-2.06-.94 2.06-2.06.94z\"/><path d=\"M17.41 7.96l-1.37-1.37c-.4-.4-.92-.59-1.43-.59-.52 0-1.04.2-1.43.59L10.3 9.45l-7.72 7.72c-.78.78-.78 2.05 0 2.83L4 21.41c.39.39.9.59 1.41.59.51 0 1.02-.2 1.41-.59l7.78-7.78 2.81-2.81c.8-.78.8-2.07 0-2.86zM5.41 20L4 18.59l7.72-7.72 1.47 1.35L5.41 20z\"/>\n",
              "  </svg>\n",
              "      </button>\n",
              "      \n",
              "  <style>\n",
              "    .colab-df-container {\n",
              "      display:flex;\n",
              "      flex-wrap:wrap;\n",
              "      gap: 12px;\n",
              "    }\n",
              "\n",
              "    .colab-df-convert {\n",
              "      background-color: #E8F0FE;\n",
              "      border: none;\n",
              "      border-radius: 50%;\n",
              "      cursor: pointer;\n",
              "      display: none;\n",
              "      fill: #1967D2;\n",
              "      height: 32px;\n",
              "      padding: 0 0 0 0;\n",
              "      width: 32px;\n",
              "    }\n",
              "\n",
              "    .colab-df-convert:hover {\n",
              "      background-color: #E2EBFA;\n",
              "      box-shadow: 0px 1px 2px rgba(60, 64, 67, 0.3), 0px 1px 3px 1px rgba(60, 64, 67, 0.15);\n",
              "      fill: #174EA6;\n",
              "    }\n",
              "\n",
              "    [theme=dark] .colab-df-convert {\n",
              "      background-color: #3B4455;\n",
              "      fill: #D2E3FC;\n",
              "    }\n",
              "\n",
              "    [theme=dark] .colab-df-convert:hover {\n",
              "      background-color: #434B5C;\n",
              "      box-shadow: 0px 1px 3px 1px rgba(0, 0, 0, 0.15);\n",
              "      filter: drop-shadow(0px 1px 2px rgba(0, 0, 0, 0.3));\n",
              "      fill: #FFFFFF;\n",
              "    }\n",
              "  </style>\n",
              "\n",
              "      <script>\n",
              "        const buttonEl =\n",
              "          document.querySelector('#df-8de4af6e-69a5-4753-9f73-0bc96927f22d button.colab-df-convert');\n",
              "        buttonEl.style.display =\n",
              "          google.colab.kernel.accessAllowed ? 'block' : 'none';\n",
              "\n",
              "        async function convertToInteractive(key) {\n",
              "          const element = document.querySelector('#df-8de4af6e-69a5-4753-9f73-0bc96927f22d');\n",
              "          const dataTable =\n",
              "            await google.colab.kernel.invokeFunction('convertToInteractive',\n",
              "                                                     [key], {});\n",
              "          if (!dataTable) return;\n",
              "\n",
              "          const docLinkHtml = 'Like what you see? Visit the ' +\n",
              "            '<a target=\"_blank\" href=https://colab.research.google.com/notebooks/data_table.ipynb>data table notebook</a>'\n",
              "            + ' to learn more about interactive tables.';\n",
              "          element.innerHTML = '';\n",
              "          dataTable['output_type'] = 'display_data';\n",
              "          await google.colab.output.renderOutput(dataTable, element);\n",
              "          const docLink = document.createElement('div');\n",
              "          docLink.innerHTML = docLinkHtml;\n",
              "          element.appendChild(docLink);\n",
              "        }\n",
              "      </script>\n",
              "    </div>\n",
              "  </div>\n",
              "  "
            ]
          },
          "metadata": {},
          "execution_count": 30
        }
      ]
    },
    {
      "cell_type": "code",
      "source": [
        "#creating a DataFrame\n",
        "directors_df = pd.DataFrame(directors , columns=[\"name\",\"director_id\",\"gender\",\"uid\",\"department\"])"
      ],
      "metadata": {
        "id": "hnWniMa4XBHb"
      },
      "execution_count": 28,
      "outputs": []
    },
    {
      "cell_type": "code",
      "source": [
        "directors_df"
      ],
      "metadata": {
        "id": "rbJbw_0u6_2l",
        "colab": {
          "base_uri": "https://localhost:8080/",
          "height": 424
        },
        "outputId": "c4c368d7-7aae-47b9-c9ea-462ec45c2019"
      },
      "execution_count": 29,
      "outputs": [
        {
          "output_type": "execute_result",
          "data": {
            "text/plain": [
              "                   name  director_id  gender      uid department\n",
              "0         James Cameron         4762       2     2710  Directing\n",
              "1        Gore Verbinski         4763       2     1704  Directing\n",
              "2            Sam Mendes         4764       2       39  Directing\n",
              "3     Christopher Nolan         4765       2      525  Directing\n",
              "4        Andrew Stanton         4766       2        7  Directing\n",
              "...                 ...          ...     ...      ...        ...\n",
              "2344      Shane Carruth         7106       2    76624  Directing\n",
              "2345   Neill Dela Llana         7107       0  1174437  Directing\n",
              "2346        Scott Smith         7108       0  1219158  Directing\n",
              "2347        Daniel Hsia         7109       2   208138  Directing\n",
              "2348   Brian Herzlinger         7110       2    85563  Directing\n",
              "\n",
              "[2349 rows x 5 columns]"
            ],
            "text/html": [
              "\n",
              "  <div id=\"df-0d7ba74d-2c57-4f5b-b0dd-5946e47433af\">\n",
              "    <div class=\"colab-df-container\">\n",
              "      <div>\n",
              "<style scoped>\n",
              "    .dataframe tbody tr th:only-of-type {\n",
              "        vertical-align: middle;\n",
              "    }\n",
              "\n",
              "    .dataframe tbody tr th {\n",
              "        vertical-align: top;\n",
              "    }\n",
              "\n",
              "    .dataframe thead th {\n",
              "        text-align: right;\n",
              "    }\n",
              "</style>\n",
              "<table border=\"1\" class=\"dataframe\">\n",
              "  <thead>\n",
              "    <tr style=\"text-align: right;\">\n",
              "      <th></th>\n",
              "      <th>name</th>\n",
              "      <th>director_id</th>\n",
              "      <th>gender</th>\n",
              "      <th>uid</th>\n",
              "      <th>department</th>\n",
              "    </tr>\n",
              "  </thead>\n",
              "  <tbody>\n",
              "    <tr>\n",
              "      <th>0</th>\n",
              "      <td>James Cameron</td>\n",
              "      <td>4762</td>\n",
              "      <td>2</td>\n",
              "      <td>2710</td>\n",
              "      <td>Directing</td>\n",
              "    </tr>\n",
              "    <tr>\n",
              "      <th>1</th>\n",
              "      <td>Gore Verbinski</td>\n",
              "      <td>4763</td>\n",
              "      <td>2</td>\n",
              "      <td>1704</td>\n",
              "      <td>Directing</td>\n",
              "    </tr>\n",
              "    <tr>\n",
              "      <th>2</th>\n",
              "      <td>Sam Mendes</td>\n",
              "      <td>4764</td>\n",
              "      <td>2</td>\n",
              "      <td>39</td>\n",
              "      <td>Directing</td>\n",
              "    </tr>\n",
              "    <tr>\n",
              "      <th>3</th>\n",
              "      <td>Christopher Nolan</td>\n",
              "      <td>4765</td>\n",
              "      <td>2</td>\n",
              "      <td>525</td>\n",
              "      <td>Directing</td>\n",
              "    </tr>\n",
              "    <tr>\n",
              "      <th>4</th>\n",
              "      <td>Andrew Stanton</td>\n",
              "      <td>4766</td>\n",
              "      <td>2</td>\n",
              "      <td>7</td>\n",
              "      <td>Directing</td>\n",
              "    </tr>\n",
              "    <tr>\n",
              "      <th>...</th>\n",
              "      <td>...</td>\n",
              "      <td>...</td>\n",
              "      <td>...</td>\n",
              "      <td>...</td>\n",
              "      <td>...</td>\n",
              "    </tr>\n",
              "    <tr>\n",
              "      <th>2344</th>\n",
              "      <td>Shane Carruth</td>\n",
              "      <td>7106</td>\n",
              "      <td>2</td>\n",
              "      <td>76624</td>\n",
              "      <td>Directing</td>\n",
              "    </tr>\n",
              "    <tr>\n",
              "      <th>2345</th>\n",
              "      <td>Neill Dela Llana</td>\n",
              "      <td>7107</td>\n",
              "      <td>0</td>\n",
              "      <td>1174437</td>\n",
              "      <td>Directing</td>\n",
              "    </tr>\n",
              "    <tr>\n",
              "      <th>2346</th>\n",
              "      <td>Scott Smith</td>\n",
              "      <td>7108</td>\n",
              "      <td>0</td>\n",
              "      <td>1219158</td>\n",
              "      <td>Directing</td>\n",
              "    </tr>\n",
              "    <tr>\n",
              "      <th>2347</th>\n",
              "      <td>Daniel Hsia</td>\n",
              "      <td>7109</td>\n",
              "      <td>2</td>\n",
              "      <td>208138</td>\n",
              "      <td>Directing</td>\n",
              "    </tr>\n",
              "    <tr>\n",
              "      <th>2348</th>\n",
              "      <td>Brian Herzlinger</td>\n",
              "      <td>7110</td>\n",
              "      <td>2</td>\n",
              "      <td>85563</td>\n",
              "      <td>Directing</td>\n",
              "    </tr>\n",
              "  </tbody>\n",
              "</table>\n",
              "<p>2349 rows × 5 columns</p>\n",
              "</div>\n",
              "      <button class=\"colab-df-convert\" onclick=\"convertToInteractive('df-0d7ba74d-2c57-4f5b-b0dd-5946e47433af')\"\n",
              "              title=\"Convert this dataframe to an interactive table.\"\n",
              "              style=\"display:none;\">\n",
              "        \n",
              "  <svg xmlns=\"http://www.w3.org/2000/svg\" height=\"24px\"viewBox=\"0 0 24 24\"\n",
              "       width=\"24px\">\n",
              "    <path d=\"M0 0h24v24H0V0z\" fill=\"none\"/>\n",
              "    <path d=\"M18.56 5.44l.94 2.06.94-2.06 2.06-.94-2.06-.94-.94-2.06-.94 2.06-2.06.94zm-11 1L8.5 8.5l.94-2.06 2.06-.94-2.06-.94L8.5 2.5l-.94 2.06-2.06.94zm10 10l.94 2.06.94-2.06 2.06-.94-2.06-.94-.94-2.06-.94 2.06-2.06.94z\"/><path d=\"M17.41 7.96l-1.37-1.37c-.4-.4-.92-.59-1.43-.59-.52 0-1.04.2-1.43.59L10.3 9.45l-7.72 7.72c-.78.78-.78 2.05 0 2.83L4 21.41c.39.39.9.59 1.41.59.51 0 1.02-.2 1.41-.59l7.78-7.78 2.81-2.81c.8-.78.8-2.07 0-2.86zM5.41 20L4 18.59l7.72-7.72 1.47 1.35L5.41 20z\"/>\n",
              "  </svg>\n",
              "      </button>\n",
              "      \n",
              "  <style>\n",
              "    .colab-df-container {\n",
              "      display:flex;\n",
              "      flex-wrap:wrap;\n",
              "      gap: 12px;\n",
              "    }\n",
              "\n",
              "    .colab-df-convert {\n",
              "      background-color: #E8F0FE;\n",
              "      border: none;\n",
              "      border-radius: 50%;\n",
              "      cursor: pointer;\n",
              "      display: none;\n",
              "      fill: #1967D2;\n",
              "      height: 32px;\n",
              "      padding: 0 0 0 0;\n",
              "      width: 32px;\n",
              "    }\n",
              "\n",
              "    .colab-df-convert:hover {\n",
              "      background-color: #E2EBFA;\n",
              "      box-shadow: 0px 1px 2px rgba(60, 64, 67, 0.3), 0px 1px 3px 1px rgba(60, 64, 67, 0.15);\n",
              "      fill: #174EA6;\n",
              "    }\n",
              "\n",
              "    [theme=dark] .colab-df-convert {\n",
              "      background-color: #3B4455;\n",
              "      fill: #D2E3FC;\n",
              "    }\n",
              "\n",
              "    [theme=dark] .colab-df-convert:hover {\n",
              "      background-color: #434B5C;\n",
              "      box-shadow: 0px 1px 3px 1px rgba(0, 0, 0, 0.15);\n",
              "      filter: drop-shadow(0px 1px 2px rgba(0, 0, 0, 0.3));\n",
              "      fill: #FFFFFF;\n",
              "    }\n",
              "  </style>\n",
              "\n",
              "      <script>\n",
              "        const buttonEl =\n",
              "          document.querySelector('#df-0d7ba74d-2c57-4f5b-b0dd-5946e47433af button.colab-df-convert');\n",
              "        buttonEl.style.display =\n",
              "          google.colab.kernel.accessAllowed ? 'block' : 'none';\n",
              "\n",
              "        async function convertToInteractive(key) {\n",
              "          const element = document.querySelector('#df-0d7ba74d-2c57-4f5b-b0dd-5946e47433af');\n",
              "          const dataTable =\n",
              "            await google.colab.kernel.invokeFunction('convertToInteractive',\n",
              "                                                     [key], {});\n",
              "          if (!dataTable) return;\n",
              "\n",
              "          const docLinkHtml = 'Like what you see? Visit the ' +\n",
              "            '<a target=\"_blank\" href=https://colab.research.google.com/notebooks/data_table.ipynb>data table notebook</a>'\n",
              "            + ' to learn more about interactive tables.';\n",
              "          element.innerHTML = '';\n",
              "          dataTable['output_type'] = 'display_data';\n",
              "          await google.colab.output.renderOutput(dataTable, element);\n",
              "          const docLink = document.createElement('div');\n",
              "          docLink.innerHTML = docLinkHtml;\n",
              "          element.appendChild(docLink);\n",
              "        }\n",
              "      </script>\n",
              "    </div>\n",
              "  </div>\n",
              "  "
            ]
          },
          "metadata": {},
          "execution_count": 29
        }
      ]
    },
    {
      "cell_type": "code",
      "source": [
        "directors_df.info()"
      ],
      "metadata": {
        "id": "9cdy5V1V7GTh",
        "colab": {
          "base_uri": "https://localhost:8080/"
        },
        "outputId": "a27a76e9-5ed6-43f8-fba1-f0487647cc76"
      },
      "execution_count": 31,
      "outputs": [
        {
          "output_type": "stream",
          "name": "stdout",
          "text": [
            "<class 'pandas.core.frame.DataFrame'>\n",
            "RangeIndex: 2349 entries, 0 to 2348\n",
            "Data columns (total 5 columns):\n",
            " #   Column       Non-Null Count  Dtype \n",
            "---  ------       --------------  ----- \n",
            " 0   name         2349 non-null   object\n",
            " 1   director_id  2349 non-null   int64 \n",
            " 2   gender       2349 non-null   int64 \n",
            " 3   uid          2349 non-null   int64 \n",
            " 4   department   2349 non-null   object\n",
            "dtypes: int64(3), object(2)\n",
            "memory usage: 91.9+ KB\n"
          ]
        }
      ]
    },
    {
      "cell_type": "code",
      "source": [
        "movies_df.shape"
      ],
      "metadata": {
        "id": "abk34atpYKS8",
        "colab": {
          "base_uri": "https://localhost:8080/"
        },
        "outputId": "0bee6225-9c98-490c-e0c8-7e3ea746224b"
      },
      "execution_count": 33,
      "outputs": [
        {
          "output_type": "execute_result",
          "data": {
            "text/plain": [
              "(4773, 13)"
            ]
          },
          "metadata": {},
          "execution_count": 33
        }
      ]
    },
    {
      "cell_type": "code",
      "source": [
        "directors_df.shape"
      ],
      "metadata": {
        "id": "47LOhCrUYSMc",
        "colab": {
          "base_uri": "https://localhost:8080/"
        },
        "outputId": "51d71e80-4e71-4f4b-c0ba-517d22f9579b"
      },
      "execution_count": 34,
      "outputs": [
        {
          "output_type": "execute_result",
          "data": {
            "text/plain": [
              "(2349, 5)"
            ]
          },
          "metadata": {},
          "execution_count": 34
        }
      ]
    },
    {
      "cell_type": "code",
      "source": [
        "movies_df.describe()"
      ],
      "metadata": {
        "id": "wfkpzrRjYpbr",
        "colab": {
          "base_uri": "https://localhost:8080/",
          "height": 300
        },
        "outputId": "57c345af-4354-4741-fa02-0cc4176ce7cf"
      },
      "execution_count": 35,
      "outputs": [
        {
          "output_type": "execute_result",
          "data": {
            "text/plain": [
              "                 id        budget   popularity       revenue         vote  \\\n",
              "count   4773.000000  4.773000e+03  4773.000000  4.773000e+03  4773.000000   \n",
              "mean   45985.680913  2.922461e+07    21.136602  8.277710e+07     6.109177   \n",
              "std     1382.032760  4.078679e+07    31.864132  1.632374e+08     1.146789   \n",
              "min    43597.000000  0.000000e+00     0.000000  0.000000e+00     0.000000   \n",
              "25%    44790.000000  9.500000e+05     4.000000  0.000000e+00     5.600000   \n",
              "50%    45983.000000  1.500000e+07    13.000000  1.947811e+07     6.200000   \n",
              "75%    47176.000000  4.000000e+07    28.000000  9.361701e+07     6.800000   \n",
              "max    48399.000000  3.800000e+08   875.000000  2.787965e+09    10.000000   \n",
              "\n",
              "       vote_average            uid  director_id  \n",
              "count   4773.000000    4773.000000  4773.000000  \n",
              "mean     694.541588   56244.396396  5586.661429  \n",
              "std     1237.251355   87452.149183   670.413263  \n",
              "min        0.000000       5.000000  4762.000000  \n",
              "25%       55.000000    8998.000000  5011.000000  \n",
              "50%      238.000000   14517.000000  5389.000000  \n",
              "75%      742.000000   57876.000000  6086.000000  \n",
              "max    13752.000000  459488.000000  7110.000000  "
            ],
            "text/html": [
              "\n",
              "  <div id=\"df-9180dae3-c12f-4e4a-aec8-ce8ef0551075\">\n",
              "    <div class=\"colab-df-container\">\n",
              "      <div>\n",
              "<style scoped>\n",
              "    .dataframe tbody tr th:only-of-type {\n",
              "        vertical-align: middle;\n",
              "    }\n",
              "\n",
              "    .dataframe tbody tr th {\n",
              "        vertical-align: top;\n",
              "    }\n",
              "\n",
              "    .dataframe thead th {\n",
              "        text-align: right;\n",
              "    }\n",
              "</style>\n",
              "<table border=\"1\" class=\"dataframe\">\n",
              "  <thead>\n",
              "    <tr style=\"text-align: right;\">\n",
              "      <th></th>\n",
              "      <th>id</th>\n",
              "      <th>budget</th>\n",
              "      <th>popularity</th>\n",
              "      <th>revenue</th>\n",
              "      <th>vote</th>\n",
              "      <th>vote_average</th>\n",
              "      <th>uid</th>\n",
              "      <th>director_id</th>\n",
              "    </tr>\n",
              "  </thead>\n",
              "  <tbody>\n",
              "    <tr>\n",
              "      <th>count</th>\n",
              "      <td>4773.000000</td>\n",
              "      <td>4.773000e+03</td>\n",
              "      <td>4773.000000</td>\n",
              "      <td>4.773000e+03</td>\n",
              "      <td>4773.000000</td>\n",
              "      <td>4773.000000</td>\n",
              "      <td>4773.000000</td>\n",
              "      <td>4773.000000</td>\n",
              "    </tr>\n",
              "    <tr>\n",
              "      <th>mean</th>\n",
              "      <td>45985.680913</td>\n",
              "      <td>2.922461e+07</td>\n",
              "      <td>21.136602</td>\n",
              "      <td>8.277710e+07</td>\n",
              "      <td>6.109177</td>\n",
              "      <td>694.541588</td>\n",
              "      <td>56244.396396</td>\n",
              "      <td>5586.661429</td>\n",
              "    </tr>\n",
              "    <tr>\n",
              "      <th>std</th>\n",
              "      <td>1382.032760</td>\n",
              "      <td>4.078679e+07</td>\n",
              "      <td>31.864132</td>\n",
              "      <td>1.632374e+08</td>\n",
              "      <td>1.146789</td>\n",
              "      <td>1237.251355</td>\n",
              "      <td>87452.149183</td>\n",
              "      <td>670.413263</td>\n",
              "    </tr>\n",
              "    <tr>\n",
              "      <th>min</th>\n",
              "      <td>43597.000000</td>\n",
              "      <td>0.000000e+00</td>\n",
              "      <td>0.000000</td>\n",
              "      <td>0.000000e+00</td>\n",
              "      <td>0.000000</td>\n",
              "      <td>0.000000</td>\n",
              "      <td>5.000000</td>\n",
              "      <td>4762.000000</td>\n",
              "    </tr>\n",
              "    <tr>\n",
              "      <th>25%</th>\n",
              "      <td>44790.000000</td>\n",
              "      <td>9.500000e+05</td>\n",
              "      <td>4.000000</td>\n",
              "      <td>0.000000e+00</td>\n",
              "      <td>5.600000</td>\n",
              "      <td>55.000000</td>\n",
              "      <td>8998.000000</td>\n",
              "      <td>5011.000000</td>\n",
              "    </tr>\n",
              "    <tr>\n",
              "      <th>50%</th>\n",
              "      <td>45983.000000</td>\n",
              "      <td>1.500000e+07</td>\n",
              "      <td>13.000000</td>\n",
              "      <td>1.947811e+07</td>\n",
              "      <td>6.200000</td>\n",
              "      <td>238.000000</td>\n",
              "      <td>14517.000000</td>\n",
              "      <td>5389.000000</td>\n",
              "    </tr>\n",
              "    <tr>\n",
              "      <th>75%</th>\n",
              "      <td>47176.000000</td>\n",
              "      <td>4.000000e+07</td>\n",
              "      <td>28.000000</td>\n",
              "      <td>9.361701e+07</td>\n",
              "      <td>6.800000</td>\n",
              "      <td>742.000000</td>\n",
              "      <td>57876.000000</td>\n",
              "      <td>6086.000000</td>\n",
              "    </tr>\n",
              "    <tr>\n",
              "      <th>max</th>\n",
              "      <td>48399.000000</td>\n",
              "      <td>3.800000e+08</td>\n",
              "      <td>875.000000</td>\n",
              "      <td>2.787965e+09</td>\n",
              "      <td>10.000000</td>\n",
              "      <td>13752.000000</td>\n",
              "      <td>459488.000000</td>\n",
              "      <td>7110.000000</td>\n",
              "    </tr>\n",
              "  </tbody>\n",
              "</table>\n",
              "</div>\n",
              "      <button class=\"colab-df-convert\" onclick=\"convertToInteractive('df-9180dae3-c12f-4e4a-aec8-ce8ef0551075')\"\n",
              "              title=\"Convert this dataframe to an interactive table.\"\n",
              "              style=\"display:none;\">\n",
              "        \n",
              "  <svg xmlns=\"http://www.w3.org/2000/svg\" height=\"24px\"viewBox=\"0 0 24 24\"\n",
              "       width=\"24px\">\n",
              "    <path d=\"M0 0h24v24H0V0z\" fill=\"none\"/>\n",
              "    <path d=\"M18.56 5.44l.94 2.06.94-2.06 2.06-.94-2.06-.94-.94-2.06-.94 2.06-2.06.94zm-11 1L8.5 8.5l.94-2.06 2.06-.94-2.06-.94L8.5 2.5l-.94 2.06-2.06.94zm10 10l.94 2.06.94-2.06 2.06-.94-2.06-.94-.94-2.06-.94 2.06-2.06.94z\"/><path d=\"M17.41 7.96l-1.37-1.37c-.4-.4-.92-.59-1.43-.59-.52 0-1.04.2-1.43.59L10.3 9.45l-7.72 7.72c-.78.78-.78 2.05 0 2.83L4 21.41c.39.39.9.59 1.41.59.51 0 1.02-.2 1.41-.59l7.78-7.78 2.81-2.81c.8-.78.8-2.07 0-2.86zM5.41 20L4 18.59l7.72-7.72 1.47 1.35L5.41 20z\"/>\n",
              "  </svg>\n",
              "      </button>\n",
              "      \n",
              "  <style>\n",
              "    .colab-df-container {\n",
              "      display:flex;\n",
              "      flex-wrap:wrap;\n",
              "      gap: 12px;\n",
              "    }\n",
              "\n",
              "    .colab-df-convert {\n",
              "      background-color: #E8F0FE;\n",
              "      border: none;\n",
              "      border-radius: 50%;\n",
              "      cursor: pointer;\n",
              "      display: none;\n",
              "      fill: #1967D2;\n",
              "      height: 32px;\n",
              "      padding: 0 0 0 0;\n",
              "      width: 32px;\n",
              "    }\n",
              "\n",
              "    .colab-df-convert:hover {\n",
              "      background-color: #E2EBFA;\n",
              "      box-shadow: 0px 1px 2px rgba(60, 64, 67, 0.3), 0px 1px 3px 1px rgba(60, 64, 67, 0.15);\n",
              "      fill: #174EA6;\n",
              "    }\n",
              "\n",
              "    [theme=dark] .colab-df-convert {\n",
              "      background-color: #3B4455;\n",
              "      fill: #D2E3FC;\n",
              "    }\n",
              "\n",
              "    [theme=dark] .colab-df-convert:hover {\n",
              "      background-color: #434B5C;\n",
              "      box-shadow: 0px 1px 3px 1px rgba(0, 0, 0, 0.15);\n",
              "      filter: drop-shadow(0px 1px 2px rgba(0, 0, 0, 0.3));\n",
              "      fill: #FFFFFF;\n",
              "    }\n",
              "  </style>\n",
              "\n",
              "      <script>\n",
              "        const buttonEl =\n",
              "          document.querySelector('#df-9180dae3-c12f-4e4a-aec8-ce8ef0551075 button.colab-df-convert');\n",
              "        buttonEl.style.display =\n",
              "          google.colab.kernel.accessAllowed ? 'block' : 'none';\n",
              "\n",
              "        async function convertToInteractive(key) {\n",
              "          const element = document.querySelector('#df-9180dae3-c12f-4e4a-aec8-ce8ef0551075');\n",
              "          const dataTable =\n",
              "            await google.colab.kernel.invokeFunction('convertToInteractive',\n",
              "                                                     [key], {});\n",
              "          if (!dataTable) return;\n",
              "\n",
              "          const docLinkHtml = 'Like what you see? Visit the ' +\n",
              "            '<a target=\"_blank\" href=https://colab.research.google.com/notebooks/data_table.ipynb>data table notebook</a>'\n",
              "            + ' to learn more about interactive tables.';\n",
              "          element.innerHTML = '';\n",
              "          dataTable['output_type'] = 'display_data';\n",
              "          await google.colab.output.renderOutput(dataTable, element);\n",
              "          const docLink = document.createElement('div');\n",
              "          docLink.innerHTML = docLinkHtml;\n",
              "          element.appendChild(docLink);\n",
              "        }\n",
              "      </script>\n",
              "    </div>\n",
              "  </div>\n",
              "  "
            ]
          },
          "metadata": {},
          "execution_count": 35
        }
      ]
    },
    {
      "cell_type": "markdown",
      "source": [
        "#how many movies are present in the movies table"
      ],
      "metadata": {
        "id": "LHQVUyvZ7xxT"
      }
    },
    {
      "cell_type": "code",
      "source": [
        "movies_df.columns"
      ],
      "metadata": {
        "id": "cOP5LG4Q79J7",
        "colab": {
          "base_uri": "https://localhost:8080/"
        },
        "outputId": "2bbfecc4-66d3-482c-e700-3c24460577ca"
      },
      "execution_count": 36,
      "outputs": [
        {
          "output_type": "execute_result",
          "data": {
            "text/plain": [
              "Index(['id', 'original_title', 'budget', 'popularity', 'releasedate',\n",
              "       'revenue', 'title', 'vote', 'vote_average', 'vote_count', 'overview',\n",
              "       'uid', 'director_id'],\n",
              "      dtype='object')"
            ]
          },
          "metadata": {},
          "execution_count": 36
        }
      ]
    },
    {
      "cell_type": "code",
      "source": [
        "cur.execute(\"select count(id) from movies\")\n",
        "count = cur.fetchall()\n",
        "print(f\"the number of movies present in the movies table is {count[0][0]}\")"
      ],
      "metadata": {
        "colab": {
          "base_uri": "https://localhost:8080/"
        },
        "id": "8q8UpRVqYs-i",
        "outputId": "1931d7f7-2397-4ac3-8e4e-f1c7fba3b01e"
      },
      "execution_count": 39,
      "outputs": [
        {
          "output_type": "stream",
          "name": "stdout",
          "text": [
            "the number of movies present in the movies table is 4773\n"
          ]
        }
      ]
    },
    {
      "cell_type": "code",
      "source": [
        "directors_df.columns"
      ],
      "metadata": {
        "id": "YJIvY430975A",
        "colab": {
          "base_uri": "https://localhost:8080/"
        },
        "outputId": "082630c1-5cab-428b-ebee-ee1910b20785"
      },
      "execution_count": 40,
      "outputs": [
        {
          "output_type": "execute_result",
          "data": {
            "text/plain": [
              "Index(['name', 'director_id', 'gender', 'uid', 'department'], dtype='object')"
            ]
          },
          "metadata": {},
          "execution_count": 40
        }
      ]
    },
    {
      "cell_type": "markdown",
      "source": [
        "Q2. find these 3 directors : james cameron,luc  besson , john woo"
      ],
      "metadata": {
        "id": "BUn7DxI0Wv_W"
      }
    },
    {
      "cell_type": "code",
      "source": [
        "#select * from directors where name in ('james cameron' ,'luc besson','john woo')\n",
        "cur.execute(\"select*from directors where name='james cameron' or name='luc besson' or name='john woo'\" )\n",
        "three_directors = cur.fetchall()\n",
        "print(f\"here are the info for the asked directors{three_directors}\")"
      ],
      "metadata": {
        "id": "R3F9DpL99I5g",
        "colab": {
          "base_uri": "https://localhost:8080/"
        },
        "outputId": "6fd2bdfc-e4d5-4d93-d571-7c28b1679d7e"
      },
      "execution_count": 44,
      "outputs": [
        {
          "output_type": "stream",
          "name": "stdout",
          "text": [
            "here are the info for the asked directors[]\n"
          ]
        }
      ]
    },
    {
      "cell_type": "markdown",
      "source": [
        "Q3.find all the directors with the name starting with 'steven' "
      ],
      "metadata": {
        "id": "_QQ8cWWh_TBQ"
      }
    },
    {
      "cell_type": "code",
      "source": [
        "cur.execute(\"select * from directors where name like 'steven' \")\n",
        "name_like = cur.fetchall()\n",
        "print(f\"these are all directors whohsse name starts with 'steven'{name_like}\")"
      ],
      "metadata": {
        "id": "2HjrVtP_9t5p",
        "colab": {
          "base_uri": "https://localhost:8080/"
        },
        "outputId": "c1bfbc34-f743-4a68-86e9-4edcf96d0c75"
      },
      "execution_count": 46,
      "outputs": [
        {
          "output_type": "stream",
          "name": "stdout",
          "text": [
            "these are all directors whohsse name starts with 'steven'[]\n"
          ]
        }
      ]
    },
    {
      "cell_type": "markdown",
      "source": [
        "#count all the female directors"
      ],
      "metadata": {
        "id": "DqBM6ccaW8qo"
      }
    },
    {
      "cell_type": "code",
      "source": [
        "cur.execute( \"select Count(name) from directors where gender =1\")\n",
        "female_directors = cur.fetchall()\n",
        "print(f\"the number of female  directors is {female_directors[0][0]}\")"
      ],
      "metadata": {
        "id": "bwYonMp5AXxK",
        "colab": {
          "base_uri": "https://localhost:8080/"
        },
        "outputId": "5bc36bb3-2335-464b-83c7-a7b2a480a586"
      },
      "execution_count": 53,
      "outputs": [
        {
          "output_type": "stream",
          "name": "stdout",
          "text": [
            "the number of female  directors is 150\n"
          ]
        }
      ]
    },
    {
      "cell_type": "markdown",
      "source": [
        "#conclusion\n",
        "the number of female director  is 150"
      ],
      "metadata": {
        "id": "MxvWxf3vBafI"
      }
    },
    {
      "cell_type": "markdown",
      "source": [
        "Q5.find the name of the 10th first female director "
      ],
      "metadata": {
        "id": "eGlOL7uTBgeb"
      }
    },
    {
      "cell_type": "code",
      "source": [
        "cur.execute(\"select name  from directors where gender =1\")\n",
        "tenth_female = cur.fetchall()\n",
        "print(f\"the tenth_female_director is{tenth_female[0][0]}\")"
      ],
      "metadata": {
        "id": "Ydcm13TSBoP-",
        "colab": {
          "base_uri": "https://localhost:8080/"
        },
        "outputId": "c1b017e2-5612-4939-d26e-50582eaa146c"
      },
      "execution_count": 70,
      "outputs": [
        {
          "output_type": "stream",
          "name": "stdout",
          "text": [
            "the tenth_female_director isBrenda Chapman\n"
          ]
        }
      ]
    },
    {
      "cell_type": "markdown",
      "source": [
        "Q6.find the top three most popular movies "
      ],
      "metadata": {
        "id": "NAjQ7KoHM4X1"
      }
    },
    {
      "cell_type": "code",
      "source": [
        "cur.execute(\"select original_title from movies order by popularity desc limit 3 \")\n",
        "most_popular=cur.fetchall()\n",
        "print(f\"the top 3 most popular are{most_popular[0][0]}\")"
      ],
      "metadata": {
        "id": "1aeShGeZM_B7",
        "colab": {
          "base_uri": "https://localhost:8080/"
        },
        "outputId": "f486dc05-cf13-42a1-ed65-8884ff075bc1"
      },
      "execution_count": 77,
      "outputs": [
        {
          "output_type": "stream",
          "name": "stdout",
          "text": [
            "the top 3 most popular areMinions\n"
          ]
        }
      ]
    },
    {
      "cell_type": "markdown",
      "source": [
        "Q7.top3 most bankable budget"
      ],
      "metadata": {
        "id": "oPR3lHSKODtO"
      }
    },
    {
      "cell_type": "code",
      "source": [
        "cur.execute(\"select original_title from movies order by budget desc limit 3 \")\n",
        "most_bankable=cur.fetchall()\n",
        "print(f\"the top 3 most bankable are{most_bankable}\")"
      ],
      "metadata": {
        "id": "2sH-66T3ONK8",
        "colab": {
          "base_uri": "https://localhost:8080/"
        },
        "outputId": "13e90bfa-6791-4fcb-fbb5-3f66c2cfc154"
      },
      "execution_count": 80,
      "outputs": [
        {
          "output_type": "stream",
          "name": "stdout",
          "text": [
            "the top 3 most bankable are[('Pirates of the Caribbean: On Stranger Tides',), (\"Pirates of the Caribbean: At World's End\",), ('Avengers: Age of Ultron',)]\n"
          ]
        }
      ]
    },
    {
      "cell_type": "markdown",
      "source": [
        "Q8. most awarded average rated movie since jan 1 st 2000"
      ],
      "metadata": {
        "id": "SeiP0yG1OyJE"
      }
    },
    {
      "cell_type": "code",
      "source": [
        "cur.execute(\"select original_title from movies where release_date >2000-01-01 order by vote_average desc limit 1 \")\n",
        "most_awarded=cur.fetchall()\n",
        "print(f\"the top 3 most popular are{most_awarded[0][0]}\")"
      ],
      "metadata": {
        "id": "3b42OB7kO7QJ",
        "colab": {
          "base_uri": "https://localhost:8080/"
        },
        "outputId": "dcb1e8a2-4258-499f-dedd-3e5c4faaed1f"
      },
      "execution_count": 82,
      "outputs": [
        {
          "output_type": "stream",
          "name": "stdout",
          "text": [
            "the top 3 most popular areStiff Upper Lips\n"
          ]
        }
      ]
    },
    {
      "cell_type": "markdown",
      "source": [
        "Q9 find all the movie that has been directed by brenda chapman"
      ],
      "metadata": {
        "id": "RSuj4vKSXNhm"
      }
    },
    {
      "cell_type": "code",
      "source": [
        "query = \"\"\"select original_title from movies  left join directors on movies.director_id '\n",
        "cur.excute(\"select original_title from movies where release_date >2000-01-01 order by vote_average desc limit 1 \")\n",
        "directed_movie = cur.fetchall()\n",
        "\n",
        "print(f\"the movies directed by brenda chapman is /are {directed_movie[0][0]}\")\n",
        "\"\"\""
      ],
      "metadata": {
        "id": "sOGSRqLeXezV"
      },
      "execution_count": 87,
      "outputs": []
    },
    {
      "cell_type": "markdown",
      "source": [
        "Q10. find out the director who has made the most movies"
      ],
      "metadata": {
        "id": "SwxzQla0aExn"
      }
    },
    {
      "cell_type": "code",
      "source": [
        "movies_df.columns"
      ],
      "metadata": {
        "id": "KGNJVgq5aNxG",
        "colab": {
          "base_uri": "https://localhost:8080/"
        },
        "outputId": "4e6ebeac-8286-4c5e-a745-e86d6578be93"
      },
      "execution_count": 89,
      "outputs": [
        {
          "output_type": "execute_result",
          "data": {
            "text/plain": [
              "Index(['id', 'original_title', 'budget', 'popularity', 'releasedate',\n",
              "       'revenue', 'title', 'vote', 'vote_average', 'vote_count', 'overview',\n",
              "       'uid', 'director_id'],\n",
              "      dtype='object')"
            ]
          },
          "metadata": {},
          "execution_count": 89
        }
      ]
    },
    {
      "cell_type": "code",
      "source": [
        "directors_df.columns"
      ],
      "metadata": {
        "id": "3MsYakm4aSTd",
        "colab": {
          "base_uri": "https://localhost:8080/"
        },
        "outputId": "8ac2f0b2-b7af-4d4f-ad65-e402f8ae547b"
      },
      "execution_count": 92,
      "outputs": [
        {
          "output_type": "execute_result",
          "data": {
            "text/plain": [
              "Index(['name', 'director_id', 'gender', 'uid', 'department'], dtype='object')"
            ]
          },
          "metadata": {},
          "execution_count": 92
        }
      ]
    },
    {
      "cell_type": "code",
      "source": [
        "query = \"select name from directors join movies on directors.id=director_id GROUP BY director_id order by  count(name) desc limit 1\"\n",
        "cur.execute(query)\n",
        "directed_movie = cur.fetchall()\n",
        "print(f\"the movies directed by brenda chapman is / are {directed_movie[0][0]}\")"
      ],
      "metadata": {
        "id": "5-pe8Yf0aVyD",
        "colab": {
          "base_uri": "https://localhost:8080/"
        },
        "outputId": "8ac915ee-7a92-4453-bf55-7b6a2b9ab04b"
      },
      "execution_count": 104,
      "outputs": [
        {
          "output_type": "stream",
          "name": "stdout",
          "text": [
            "the movies directed by brenda chapman is / are Steven Spielberg\n"
          ]
        }
      ]
    },
    {
      "cell_type": "markdown",
      "source": [
        "Q11. find out the director who is most bankable "
      ],
      "metadata": {
        "id": "jLsyADQibgDv"
      }
    },
    {
      "cell_type": "code",
      "source": [
        "query = \"select name from directors join movies on directors.id= director_id GROUP BY director_id order by  count(name) desc limit 1\"\n",
        "cur.execute(query)\n",
        "bankable_movie = cur.fetchall()\n",
        "print(f\"the movies bankable director is {bankable_movie[0][0]}\")"
      ],
      "metadata": {
        "id": "lU4Lxf5wbmSl",
        "colab": {
          "base_uri": "https://localhost:8080/"
        },
        "outputId": "7b4b2020-5890-42d7-a7b8-18ee25379cf8"
      },
      "execution_count": 111,
      "outputs": [
        {
          "output_type": "stream",
          "name": "stdout",
          "text": [
            "the movies bankable director is Steven Spielberg\n"
          ]
        }
      ]
    },
    {
      "cell_type": "markdown",
      "source": [
        "Q12. find out the top 10 highest  buduget making  movies"
      ],
      "metadata": {
        "id": "OFSzN1GecWgO"
      }
    },
    {
      "cell_type": "code",
      "source": [
        "query = \"select original_title from movies order by budget desc limit 10\"\n",
        "cur.execute(query)\n",
        "top_10 =cur.fetchall()\n",
        "print(f\"the top 10 highest budget movies are {top_10}\")\n"
      ],
      "metadata": {
        "id": "AEC8ATyqckgE",
        "colab": {
          "base_uri": "https://localhost:8080/"
        },
        "outputId": "5852b124-f5a7-4f45-842d-a005b69a35c0"
      },
      "execution_count": 114,
      "outputs": [
        {
          "output_type": "stream",
          "name": "stdout",
          "text": [
            "the top 10 highest budget movies are [('Pirates of the Caribbean: On Stranger Tides',), (\"Pirates of the Caribbean: At World's End\",), ('Avengers: Age of Ultron',), ('Superman Returns',), ('John Carter',), ('Tangled',), ('Spider-Man 3',), ('The Lone Ranger',), ('The Dark Knight Rises',), ('Harry Potter and the Half-Blood Prince',)]\n"
          ]
        }
      ]
    },
    {
      "cell_type": "markdown",
      "source": [
        "#Q13. find the top 10 revenue making movies"
      ],
      "metadata": {
        "id": "fCc08uefeRH4"
      }
    },
    {
      "cell_type": "code",
      "source": [
        "movies_df.columns"
      ],
      "metadata": {
        "id": "NjoE8aPKgTBN",
        "colab": {
          "base_uri": "https://localhost:8080/"
        },
        "outputId": "9f347870-48ed-4489-ee58-33fab6498238"
      },
      "execution_count": 115,
      "outputs": [
        {
          "output_type": "execute_result",
          "data": {
            "text/plain": [
              "Index(['id', 'original_title', 'budget', 'popularity', 'releasedate',\n",
              "       'revenue', 'title', 'vote', 'vote_average', 'vote_count', 'overview',\n",
              "       'uid', 'director_id'],\n",
              "      dtype='object')"
            ]
          },
          "metadata": {},
          "execution_count": 115
        }
      ]
    },
    {
      "cell_type": "code",
      "source": [
        "query = \"select original_title  from movies order by revenue  desc limit 10\"\n",
        "cur.execute(query)\n",
        "top_10_revenue =cur.fetchall()\n",
        "print(f\"the top 10 revenue making  movies are {top_10_revenue}\")"
      ],
      "metadata": {
        "id": "SoVhoP7vgpMu",
        "colab": {
          "base_uri": "https://localhost:8080/"
        },
        "outputId": "3ba9d193-2f3e-4d33-bf47-cba76bb30d99"
      },
      "execution_count": 117,
      "outputs": [
        {
          "output_type": "stream",
          "name": "stdout",
          "text": [
            "the top 10 revenue making  movies are [('Avatar',), ('Titanic',), ('The Avengers',), ('Jurassic World',), ('Furious 7',), ('Avengers: Age of Ultron',), ('Frozen',), ('Iron Man 3',), ('Minions',), ('Captain America: Civil War',)]\n"
          ]
        }
      ]
    },
    {
      "cell_type": "markdown",
      "source": [
        "Q14.find out the top 10 most popular movies with the highest rating(vote_avg)"
      ],
      "metadata": {
        "id": "jiGNSek9hCsH"
      }
    },
    {
      "cell_type": "code",
      "source": [
        "movies_df.columns"
      ],
      "metadata": {
        "id": "MtgGyaKBhQtO",
        "colab": {
          "base_uri": "https://localhost:8080/"
        },
        "outputId": "0a5a2cd0-da36-413d-e5e2-fbe62280b52d"
      },
      "execution_count": 118,
      "outputs": [
        {
          "output_type": "execute_result",
          "data": {
            "text/plain": [
              "Index(['id', 'original_title', 'budget', 'popularity', 'releasedate',\n",
              "       'revenue', 'title', 'vote', 'vote_average', 'vote_count', 'overview',\n",
              "       'uid', 'director_id'],\n",
              "      dtype='object')"
            ]
          },
          "metadata": {},
          "execution_count": 118
        }
      ]
    },
    {
      "cell_type": "code",
      "source": [
        "query = \"select original_title  from movies order by popularity,vote_average desc limit 10\"\n",
        "cur.execute(query)\n",
        "top_10_rating =cur.fetchall()\n",
        "print(f\"the top 10 most popular w.r.t. the highest rating are {top_10_rating}\")"
      ],
      "metadata": {
        "id": "OcSV1HH1hUcc",
        "colab": {
          "base_uri": "https://localhost:8080/"
        },
        "outputId": "db5a4685-1771-48e7-a6b8-4c80e965317e"
      },
      "execution_count": 121,
      "outputs": [
        {
          "output_type": "stream",
          "name": "stdout",
          "text": [
            "the top 10 most popular w.r.t. the highest rating are [('Stiff Upper Lips',), ('Dancer, Texas Pop. 81',), ('Sardaarji',), (\"One Man's Hero\",), ('There Goes My Baby',), ('Counting',), ('Déjà Vu',), ('Dolphins and Whales: Tribes of the Ocean',), ('Lake of Fire',), ('Dreaming of Joseph Lees',)]\n"
          ]
        }
      ]
    },
    {
      "cell_type": "markdown",
      "source": [],
      "metadata": {
        "id": "9mQaGWq8iSQY"
      }
    },
    {
      "cell_type": "code",
      "source": [],
      "metadata": {
        "id": "PaA214nIiQzR"
      },
      "execution_count": null,
      "outputs": []
    },
    {
      "cell_type": "code",
      "source": [],
      "metadata": {
        "id": "KMS4hk8jiQ6Y"
      },
      "execution_count": null,
      "outputs": []
    }
  ]
}